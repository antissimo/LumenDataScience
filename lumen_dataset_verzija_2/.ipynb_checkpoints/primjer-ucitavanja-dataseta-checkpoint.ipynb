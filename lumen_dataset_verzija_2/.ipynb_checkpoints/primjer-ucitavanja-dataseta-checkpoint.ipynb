{
 "cells": [
  {
   "cell_type": "code",
   "execution_count": 1,
   "outputs": [
    {
     "name": "stdout",
     "output_type": "stream",
     "text": [
      "Requirement already satisfied: pandas in c:\\users\\user\\documents\\projects\\ocr_testing\\venv\\lib\\site-packages (2.1.3)\n",
      "Requirement already satisfied: numpy<2,>=1.22.4 in c:\\users\\user\\appdata\\local\\programs\\python\\python310\\lib\\site-packages (from pandas) (1.26.1)\n",
      "Requirement already satisfied: python-dateutil>=2.8.2 in c:\\users\\user\\appdata\\local\\programs\\python\\python310\\lib\\site-packages (from pandas) (2.8.2)\n",
      "Requirement already satisfied: pytz>=2020.1 in c:\\users\\user\\documents\\projects\\ocr_testing\\venv\\lib\\site-packages (from pandas) (2023.3.post1)\n",
      "Requirement already satisfied: tzdata>=2022.1 in c:\\users\\user\\documents\\projects\\ocr_testing\\venv\\lib\\site-packages (from pandas) (2023.4)\n",
      "Requirement already satisfied: six>=1.5 in c:\\users\\user\\appdata\\local\\programs\\python\\python310\\lib\\site-packages (from python-dateutil>=2.8.2->pandas) (1.16.0)\n"
     ]
    },
    {
     "name": "stderr",
     "output_type": "stream",
     "text": [
      "\n",
      "[notice] A new release of pip is available: 23.2.1 -> 24.0\n",
      "[notice] To update, run: python.exe -m pip install --upgrade pip\n"
     ]
    },
    {
     "name": "stdout",
     "output_type": "stream",
     "text": [
      "Requirement already satisfied: parquet in c:\\users\\user\\documents\\projects\\ocr_testing\\venv\\lib\\site-packages (1.3.1)"
     ]
    },
    {
     "name": "stderr",
     "output_type": "stream",
     "text": [
      "\n",
      "[notice] A new release of pip is available: 23.2.1 -> 24.0\n",
      "[notice] To update, run: python.exe -m pip install --upgrade pip\n"
     ]
    },
    {
     "name": "stdout",
     "output_type": "stream",
     "text": [
      "\n",
      "Requirement already satisfied: thriftpy2 in c:\\users\\user\\documents\\projects\\ocr_testing\\venv\\lib\\site-packages (from parquet) (0.4.17)\n",
      "Requirement already satisfied: ply<4.0,>=3.4 in c:\\users\\user\\documents\\projects\\ocr_testing\\venv\\lib\\site-packages (from thriftpy2->parquet) (3.11)\n",
      "Requirement already satisfied: six~=1.15 in c:\\users\\user\\appdata\\local\\programs\\python\\python310\\lib\\site-packages (from thriftpy2->parquet) (1.16.0)\n",
      "Requirement already satisfied: pyarrow in c:\\users\\user\\documents\\projects\\ocr_testing\\venv\\lib\\site-packages (14.0.2)\n",
      "Requirement already satisfied: numpy>=1.16.6 in c:\\users\\user\\appdata\\local\\programs\\python\\python310\\lib\\site-packages (from pyarrow) (1.26.1)\n"
     ]
    },
    {
     "name": "stderr",
     "output_type": "stream",
     "text": [
      "\n",
      "[notice] A new release of pip is available: 23.2.1 -> 24.0\n",
      "[notice] To update, run: python.exe -m pip install --upgrade pip\n"
     ]
    }
   ],
   "source": [
    "# install pandas and parquet\n",
    "!pip install pandas\n",
    "!pip install parquet\n",
    "!pip install pyarrow"
   ],
   "metadata": {
    "collapsed": false,
    "ExecuteTime": {
     "end_time": "2024-03-08T10:00:24.157417300Z",
     "start_time": "2024-03-08T10:00:17.117236400Z"
    }
   },
   "id": "235341fca7f2be58"
  },
  {
   "cell_type": "markdown",
   "source": [
    "Opis kolona:\n",
    "\n",
    "datum_dolaska - datum kada bi gost trebao stići u hotel\n",
    "datum_kreiranja_rezervacije - datum kada je rezervacija kreirana\n",
    "datum_odjave - datum kada je gost napustio hotel\n",
    "datum_otkazivanja_rezervacije - datum kada je rezervacija otkazana\n",
    "broj_odraslih_gostiju - broj odraslih koji će boraviti u rezerviranim sobama\n",
    "broj_djece_gostiju - broj djece koji će boraviti u rezerviranim sobama\n",
    "zemlja_gosta - zemlja iz koje gost dolazi. Kategorije su zapisane u ISO 3155–3:2013 formatu\n",
    "kanal_prodaje_id - id kanala prodaje preko kojeg je rezervacija napravljena (primjeri: direktna rezervacija, agencija, online)\n",
    "tip_sobe_id - id tipa sobe koju je gost rezervirao\n",
    "cijena_nocenja - cijena jednog noćenja za pojedinu rezeraciju\n",
    "status_rezervacije - status rezervacije (Check-Out, Canceled, No-Show)\n",
    "rezervacija_id - id rezervacije\n",
    "gost_id - id gosta"
   ],
   "metadata": {
    "collapsed": false
   },
   "id": "3f0eb7acd12d95c7"
  },
  {
   "cell_type": "code",
   "execution_count": 2,
   "outputs": [],
   "source": [
    "import pandas as pd\n",
    "dataset_path = './data/lumen/train.parquet'"
   ],
   "metadata": {
    "collapsed": false,
    "ExecuteTime": {
     "end_time": "2024-03-08T10:00:24.186638600Z",
     "start_time": "2024-03-08T10:00:24.158424300Z"
    }
   },
   "id": "initial_id"
  },
  {
   "cell_type": "code",
   "execution_count": 3,
   "outputs": [
    {
     "data": {
      "text/plain": "   reservation_id  night_number  stay_date  guest_id guest_country_id  \\\n0           73710           1.0 2007-12-13     22897               HR   \n1           73710           2.0 2007-12-14     22897               HR   \n2           74464           1.0 2008-01-01    106278               HR   \n3           74461           1.0 2008-01-01     38936               GB   \n4           74466           1.0 2008-01-01    106279               HR   \n\n  reservation_status reservation_date   date_from     date_to  resort_id  ...  \\\n0        Checked-out       2007-11-28  2007-12-13  2007-12-15          1  ...   \n1        Checked-out       2007-11-28  2007-12-13  2007-12-15          1  ...   \n2        Checked-out       2007-12-29  2008-01-01  2008-01-02          1  ...   \n3          Cancelled       2007-12-29  2008-01-01  2008-01-02          1  ...   \n4          Cancelled       2007-12-29  2008-01-01  2008-01-03          1  ...   \n\n      price  price_tax  total_price_tax  total_price  food_price  \\\n0  4255.462    425.517          452.089     4564.690     265.428   \n1  4243.709    424.349          450.921     4552.937     265.428   \n2  4336.857    433.693         3806.147    19764.823     530.929   \n3  8536.766    853.662         1012.948    10392.280    1592.714   \n4       NaN        NaN              NaN          NaN         NaN   \n\n   food_price_tax  other_price  other_price_tax  room_category_id  \\\n0          26.572       43.800            0.000                 3   \n1          26.572       43.800            0.000                 3   \n2          53.071    14897.037         3319.383                 4   \n3         159.286      262.800            0.000                 5   \n4             NaN          NaN              NaN                 6   \n\n   sales_channel_id  \n0              10.0  \n1              10.0  \n2               4.0  \n3               3.0  \n4               4.0  \n\n[5 rows x 24 columns]",
      "text/html": "<div>\n<style scoped>\n    .dataframe tbody tr th:only-of-type {\n        vertical-align: middle;\n    }\n\n    .dataframe tbody tr th {\n        vertical-align: top;\n    }\n\n    .dataframe thead th {\n        text-align: right;\n    }\n</style>\n<table border=\"1\" class=\"dataframe\">\n  <thead>\n    <tr style=\"text-align: right;\">\n      <th></th>\n      <th>reservation_id</th>\n      <th>night_number</th>\n      <th>stay_date</th>\n      <th>guest_id</th>\n      <th>guest_country_id</th>\n      <th>reservation_status</th>\n      <th>reservation_date</th>\n      <th>date_from</th>\n      <th>date_to</th>\n      <th>resort_id</th>\n      <th>...</th>\n      <th>price</th>\n      <th>price_tax</th>\n      <th>total_price_tax</th>\n      <th>total_price</th>\n      <th>food_price</th>\n      <th>food_price_tax</th>\n      <th>other_price</th>\n      <th>other_price_tax</th>\n      <th>room_category_id</th>\n      <th>sales_channel_id</th>\n    </tr>\n  </thead>\n  <tbody>\n    <tr>\n      <th>0</th>\n      <td>73710</td>\n      <td>1.0</td>\n      <td>2007-12-13</td>\n      <td>22897</td>\n      <td>HR</td>\n      <td>Checked-out</td>\n      <td>2007-11-28</td>\n      <td>2007-12-13</td>\n      <td>2007-12-15</td>\n      <td>1</td>\n      <td>...</td>\n      <td>4255.462</td>\n      <td>425.517</td>\n      <td>452.089</td>\n      <td>4564.690</td>\n      <td>265.428</td>\n      <td>26.572</td>\n      <td>43.800</td>\n      <td>0.000</td>\n      <td>3</td>\n      <td>10.0</td>\n    </tr>\n    <tr>\n      <th>1</th>\n      <td>73710</td>\n      <td>2.0</td>\n      <td>2007-12-14</td>\n      <td>22897</td>\n      <td>HR</td>\n      <td>Checked-out</td>\n      <td>2007-11-28</td>\n      <td>2007-12-13</td>\n      <td>2007-12-15</td>\n      <td>1</td>\n      <td>...</td>\n      <td>4243.709</td>\n      <td>424.349</td>\n      <td>450.921</td>\n      <td>4552.937</td>\n      <td>265.428</td>\n      <td>26.572</td>\n      <td>43.800</td>\n      <td>0.000</td>\n      <td>3</td>\n      <td>10.0</td>\n    </tr>\n    <tr>\n      <th>2</th>\n      <td>74464</td>\n      <td>1.0</td>\n      <td>2008-01-01</td>\n      <td>106278</td>\n      <td>HR</td>\n      <td>Checked-out</td>\n      <td>2007-12-29</td>\n      <td>2008-01-01</td>\n      <td>2008-01-02</td>\n      <td>1</td>\n      <td>...</td>\n      <td>4336.857</td>\n      <td>433.693</td>\n      <td>3806.147</td>\n      <td>19764.823</td>\n      <td>530.929</td>\n      <td>53.071</td>\n      <td>14897.037</td>\n      <td>3319.383</td>\n      <td>4</td>\n      <td>4.0</td>\n    </tr>\n    <tr>\n      <th>3</th>\n      <td>74461</td>\n      <td>1.0</td>\n      <td>2008-01-01</td>\n      <td>38936</td>\n      <td>GB</td>\n      <td>Cancelled</td>\n      <td>2007-12-29</td>\n      <td>2008-01-01</td>\n      <td>2008-01-02</td>\n      <td>1</td>\n      <td>...</td>\n      <td>8536.766</td>\n      <td>853.662</td>\n      <td>1012.948</td>\n      <td>10392.280</td>\n      <td>1592.714</td>\n      <td>159.286</td>\n      <td>262.800</td>\n      <td>0.000</td>\n      <td>5</td>\n      <td>3.0</td>\n    </tr>\n    <tr>\n      <th>4</th>\n      <td>74466</td>\n      <td>1.0</td>\n      <td>2008-01-01</td>\n      <td>106279</td>\n      <td>HR</td>\n      <td>Cancelled</td>\n      <td>2007-12-29</td>\n      <td>2008-01-01</td>\n      <td>2008-01-03</td>\n      <td>1</td>\n      <td>...</td>\n      <td>NaN</td>\n      <td>NaN</td>\n      <td>NaN</td>\n      <td>NaN</td>\n      <td>NaN</td>\n      <td>NaN</td>\n      <td>NaN</td>\n      <td>NaN</td>\n      <td>6</td>\n      <td>4.0</td>\n    </tr>\n  </tbody>\n</table>\n<p>5 rows × 24 columns</p>\n</div>"
     },
     "execution_count": 3,
     "metadata": {},
     "output_type": "execute_result"
    }
   ],
   "source": [
    "df = pd.read_parquet(dataset_path)\n",
    "df.head()"
   ],
   "metadata": {
    "collapsed": false,
    "ExecuteTime": {
     "end_time": "2024-03-08T10:00:24.360545100Z",
     "start_time": "2024-03-08T10:00:24.172604400Z"
    }
   },
   "id": "6823a84f0853585"
  },
  {
   "cell_type": "code",
   "execution_count": 5,
   "outputs": [
    {
     "name": "stdout",
     "output_type": "stream",
     "text": [
      "<class 'pandas.core.frame.DataFrame'>\n",
      "RangeIndex: 31634 entries, 0 to 31633\n",
      "Data columns (total 24 columns):\n",
      " #   Column              Non-Null Count  Dtype         \n",
      "---  ------              --------------  -----         \n",
      " 0   reservation_id      31634 non-null  int64         \n",
      " 1   night_number        31634 non-null  float64       \n",
      " 2   stay_date           31634 non-null  datetime64[ns]\n",
      " 3   guest_id            31634 non-null  int64         \n",
      " 4   guest_country_id    31634 non-null  object        \n",
      " 5   reservation_status  31634 non-null  object        \n",
      " 6   reservation_date    31634 non-null  object        \n",
      " 7   date_from           31634 non-null  object        \n",
      " 8   date_to             31634 non-null  object        \n",
      " 9   resort_id           31634 non-null  int64         \n",
      " 10  cancel_date         6151 non-null   object        \n",
      " 11  room_cnt            31634 non-null  int64         \n",
      " 12  adult_cnt           31634 non-null  int64         \n",
      " 13  children_cnt        31634 non-null  int64         \n",
      " 14  price               27860 non-null  float64       \n",
      " 15  price_tax           27860 non-null  float64       \n",
      " 16  total_price_tax     28076 non-null  float64       \n",
      " 17  total_price         28076 non-null  float64       \n",
      " 18  food_price          27860 non-null  float64       \n",
      " 19  food_price_tax      27860 non-null  float64       \n",
      " 20  other_price         27860 non-null  float64       \n",
      " 21  other_price_tax     27860 non-null  float64       \n",
      " 22  room_category_id    31634 non-null  int64         \n",
      " 23  sales_channel_id    31634 non-null  float64       \n",
      "dtypes: datetime64[ns](1), float64(10), int64(7), object(6)\n",
      "memory usage: 5.8+ MB\n"
     ]
    }
   ],
   "source": [
    "df.info()"
   ],
   "metadata": {
    "collapsed": false,
    "ExecuteTime": {
     "end_time": "2024-03-08T10:00:32.236885Z",
     "start_time": "2024-03-08T10:00:32.215029700Z"
    }
   },
   "id": "37dd3cb131466aa4"
  },
  {
   "cell_type": "code",
   "execution_count": 6,
   "outputs": [
    {
     "data": {
      "text/plain": "       reservation_id  night_number                      stay_date  \\\ncount    31634.000000  31634.000000                          31634   \nmean     82726.976102      4.928874  2009-01-04 07:23:16.800910336   \nmin      13685.000000      1.000000            2007-12-13 00:00:00   \n25%      78400.250000      1.000000            2008-07-04 00:00:00   \n50%      82905.500000      2.000000            2009-01-01 00:00:00   \n75%      87132.750000      4.000000            2009-07-12 00:00:00   \nmax      91366.000000    226.000000            2009-12-31 00:00:00   \nstd       5023.282235     12.878147                            NaN   \n\n            guest_id  resort_id      room_cnt     adult_cnt  children_cnt  \\\ncount   31634.000000    31634.0  31634.000000  31634.000000  31634.000000   \nmean    66420.902067        1.0      2.581178      3.837169      0.000158   \nmin       104.000000        1.0      0.000000      1.000000      0.000000   \n25%     23589.000000        1.0      1.000000      1.000000      0.000000   \n50%     63575.000000        1.0      1.000000      1.000000      0.000000   \n75%    107000.750000        1.0      1.000000      2.000000      0.000000   \nmax    149866.000000        1.0     60.000000     60.000000      1.000000   \nstd     42866.831472        0.0      5.172606      8.683641      0.012571   \n\n               price     price_tax  total_price_tax    total_price  \\\ncount   27860.000000  27860.000000     28076.000000   28076.000000   \nmean    12366.242495   1236.536998      1530.393681   15810.696197   \nmin         0.000000      0.000000         0.000000       0.000000   \n25%      1835.460000    183.540000       206.265000    2104.650000   \n50%      5198.184000    519.833000       611.010000    6314.974500   \n75%     15339.088500   1533.803000      1850.769000   18818.286750   \nmax    395442.387000  39544.976000     47315.680000  467782.613000   \nstd     20590.179794   2059.042719      2622.469055   27079.984236   \n\n         food_price  food_price_tax    other_price  other_price_tax  \\\ncount  27860.000000    27860.000000   27860.000000     27860.000000   \nmean    1283.381136      128.299446    2276.642024       176.647816   \nmin        0.000000        0.000000       0.000000         0.000000   \n25%      170.910000       17.080000      51.100000         0.000000   \n50%      623.785000       62.342000     244.550000         0.000000   \n75%     1559.499000      155.855000    2002.463000       119.793000   \nmax    37741.730000     3773.370000  234320.145000     15441.325000   \nstd     2488.930538      248.911415    5733.679232       507.996673   \n\n       room_category_id  sales_channel_id  \ncount      31634.000000      31634.000000  \nmean           3.533287          4.894512  \nmin            1.000000          1.000000  \n25%            2.000000          2.000000  \n50%            3.000000          3.000000  \n75%            5.000000         10.000000  \nmax           11.000000         18.000000  \nstd            1.554350          3.574326  ",
      "text/html": "<div>\n<style scoped>\n    .dataframe tbody tr th:only-of-type {\n        vertical-align: middle;\n    }\n\n    .dataframe tbody tr th {\n        vertical-align: top;\n    }\n\n    .dataframe thead th {\n        text-align: right;\n    }\n</style>\n<table border=\"1\" class=\"dataframe\">\n  <thead>\n    <tr style=\"text-align: right;\">\n      <th></th>\n      <th>reservation_id</th>\n      <th>night_number</th>\n      <th>stay_date</th>\n      <th>guest_id</th>\n      <th>resort_id</th>\n      <th>room_cnt</th>\n      <th>adult_cnt</th>\n      <th>children_cnt</th>\n      <th>price</th>\n      <th>price_tax</th>\n      <th>total_price_tax</th>\n      <th>total_price</th>\n      <th>food_price</th>\n      <th>food_price_tax</th>\n      <th>other_price</th>\n      <th>other_price_tax</th>\n      <th>room_category_id</th>\n      <th>sales_channel_id</th>\n    </tr>\n  </thead>\n  <tbody>\n    <tr>\n      <th>count</th>\n      <td>31634.000000</td>\n      <td>31634.000000</td>\n      <td>31634</td>\n      <td>31634.000000</td>\n      <td>31634.0</td>\n      <td>31634.000000</td>\n      <td>31634.000000</td>\n      <td>31634.000000</td>\n      <td>27860.000000</td>\n      <td>27860.000000</td>\n      <td>28076.000000</td>\n      <td>28076.000000</td>\n      <td>27860.000000</td>\n      <td>27860.000000</td>\n      <td>27860.000000</td>\n      <td>27860.000000</td>\n      <td>31634.000000</td>\n      <td>31634.000000</td>\n    </tr>\n    <tr>\n      <th>mean</th>\n      <td>82726.976102</td>\n      <td>4.928874</td>\n      <td>2009-01-04 07:23:16.800910336</td>\n      <td>66420.902067</td>\n      <td>1.0</td>\n      <td>2.581178</td>\n      <td>3.837169</td>\n      <td>0.000158</td>\n      <td>12366.242495</td>\n      <td>1236.536998</td>\n      <td>1530.393681</td>\n      <td>15810.696197</td>\n      <td>1283.381136</td>\n      <td>128.299446</td>\n      <td>2276.642024</td>\n      <td>176.647816</td>\n      <td>3.533287</td>\n      <td>4.894512</td>\n    </tr>\n    <tr>\n      <th>min</th>\n      <td>13685.000000</td>\n      <td>1.000000</td>\n      <td>2007-12-13 00:00:00</td>\n      <td>104.000000</td>\n      <td>1.0</td>\n      <td>0.000000</td>\n      <td>1.000000</td>\n      <td>0.000000</td>\n      <td>0.000000</td>\n      <td>0.000000</td>\n      <td>0.000000</td>\n      <td>0.000000</td>\n      <td>0.000000</td>\n      <td>0.000000</td>\n      <td>0.000000</td>\n      <td>0.000000</td>\n      <td>1.000000</td>\n      <td>1.000000</td>\n    </tr>\n    <tr>\n      <th>25%</th>\n      <td>78400.250000</td>\n      <td>1.000000</td>\n      <td>2008-07-04 00:00:00</td>\n      <td>23589.000000</td>\n      <td>1.0</td>\n      <td>1.000000</td>\n      <td>1.000000</td>\n      <td>0.000000</td>\n      <td>1835.460000</td>\n      <td>183.540000</td>\n      <td>206.265000</td>\n      <td>2104.650000</td>\n      <td>170.910000</td>\n      <td>17.080000</td>\n      <td>51.100000</td>\n      <td>0.000000</td>\n      <td>2.000000</td>\n      <td>2.000000</td>\n    </tr>\n    <tr>\n      <th>50%</th>\n      <td>82905.500000</td>\n      <td>2.000000</td>\n      <td>2009-01-01 00:00:00</td>\n      <td>63575.000000</td>\n      <td>1.0</td>\n      <td>1.000000</td>\n      <td>1.000000</td>\n      <td>0.000000</td>\n      <td>5198.184000</td>\n      <td>519.833000</td>\n      <td>611.010000</td>\n      <td>6314.974500</td>\n      <td>623.785000</td>\n      <td>62.342000</td>\n      <td>244.550000</td>\n      <td>0.000000</td>\n      <td>3.000000</td>\n      <td>3.000000</td>\n    </tr>\n    <tr>\n      <th>75%</th>\n      <td>87132.750000</td>\n      <td>4.000000</td>\n      <td>2009-07-12 00:00:00</td>\n      <td>107000.750000</td>\n      <td>1.0</td>\n      <td>1.000000</td>\n      <td>2.000000</td>\n      <td>0.000000</td>\n      <td>15339.088500</td>\n      <td>1533.803000</td>\n      <td>1850.769000</td>\n      <td>18818.286750</td>\n      <td>1559.499000</td>\n      <td>155.855000</td>\n      <td>2002.463000</td>\n      <td>119.793000</td>\n      <td>5.000000</td>\n      <td>10.000000</td>\n    </tr>\n    <tr>\n      <th>max</th>\n      <td>91366.000000</td>\n      <td>226.000000</td>\n      <td>2009-12-31 00:00:00</td>\n      <td>149866.000000</td>\n      <td>1.0</td>\n      <td>60.000000</td>\n      <td>60.000000</td>\n      <td>1.000000</td>\n      <td>395442.387000</td>\n      <td>39544.976000</td>\n      <td>47315.680000</td>\n      <td>467782.613000</td>\n      <td>37741.730000</td>\n      <td>3773.370000</td>\n      <td>234320.145000</td>\n      <td>15441.325000</td>\n      <td>11.000000</td>\n      <td>18.000000</td>\n    </tr>\n    <tr>\n      <th>std</th>\n      <td>5023.282235</td>\n      <td>12.878147</td>\n      <td>NaN</td>\n      <td>42866.831472</td>\n      <td>0.0</td>\n      <td>5.172606</td>\n      <td>8.683641</td>\n      <td>0.012571</td>\n      <td>20590.179794</td>\n      <td>2059.042719</td>\n      <td>2622.469055</td>\n      <td>27079.984236</td>\n      <td>2488.930538</td>\n      <td>248.911415</td>\n      <td>5733.679232</td>\n      <td>507.996673</td>\n      <td>1.554350</td>\n      <td>3.574326</td>\n    </tr>\n  </tbody>\n</table>\n</div>"
     },
     "execution_count": 6,
     "metadata": {},
     "output_type": "execute_result"
    }
   ],
   "source": [
    "df.describe()"
   ],
   "metadata": {
    "collapsed": false,
    "ExecuteTime": {
     "end_time": "2024-03-08T10:00:32.303850Z",
     "start_time": "2024-03-08T10:00:32.228545100Z"
    }
   },
   "id": "d75e36c2c35c5920"
  }
 ],
 "metadata": {
  "kernelspec": {
   "display_name": "Python 3",
   "language": "python",
   "name": "python3"
  },
  "language_info": {
   "codemirror_mode": {
    "name": "ipython",
    "version": 2
   },
   "file_extension": ".py",
   "mimetype": "text/x-python",
   "name": "python",
   "nbconvert_exporter": "python",
   "pygments_lexer": "ipython2",
   "version": "2.7.6"
  }
 },
 "nbformat": 4,
 "nbformat_minor": 5
}
